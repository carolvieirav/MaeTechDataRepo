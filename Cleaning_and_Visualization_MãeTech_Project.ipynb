{
  "nbformat": 4,
  "nbformat_minor": 0,
  "metadata": {
    "colab": {
      "name": "Cleaning_and_Visualization_MãeTech_Project.ipynb",
      "provenance": [],
      "authorship_tag": "ABX9TyMy2PKyKfkEzkF1dKjWTukZ",
      "include_colab_link": true
    },
    "kernelspec": {
      "name": "python3",
      "display_name": "Python 3"
    }
  },
  "cells": [
    {
      "cell_type": "markdown",
      "metadata": {
        "id": "view-in-github",
        "colab_type": "text"
      },
      "source": [
        "<a href=\"https://colab.research.google.com/github/carolvieirav/MaeTechDataRepo/blob/main/Cleaning_and_Visualization_M%C3%A3eTech_Project.ipynb\" target=\"_parent\"><img src=\"https://colab.research.google.com/assets/colab-badge.svg\" alt=\"Open In Colab\"/></a>"
      ]
    },
    {
      "cell_type": "code",
      "metadata": {
        "id": "iENjf5yx42ad"
      },
      "source": [
        "import pandas as pd\r\n",
        "import numpy as np\r\n",
        "import re\r\n",
        "import seaborn as sns\r\n",
        "import matplotlib.pyplot as plt\r\n",
        "from matplotlib import style"
      ],
      "execution_count": 77,
      "outputs": []
    },
    {
      "cell_type": "code",
      "metadata": {
        "id": "b952sn-qeWe-"
      },
      "source": [
        "df = pd.read_excel('/content/Mães em Tech (respostas).xlsx')"
      ],
      "execution_count": 78,
      "outputs": []
    },
    {
      "cell_type": "code",
      "metadata": {
        "colab": {
          "base_uri": "https://localhost:8080/",
          "height": 792
        },
        "id": "XE_0PWMWFzUx",
        "outputId": "82ff93ec-739e-41ff-c6c6-819e25eb4ed5"
      },
      "source": [
        "df.describe(include='all')"
      ],
      "execution_count": 79,
      "outputs": [
        {
          "output_type": "stream",
          "text": [
            "/usr/local/lib/python3.6/dist-packages/ipykernel_launcher.py:1: FutureWarning: Treating datetime data as categorical rather than numeric in `.describe` is deprecated and will be removed in a future version of pandas. Specify `datetime_is_numeric=True` to silence this warning and adopt the future behavior now.\n",
            "  \"\"\"Entry point for launching an IPython kernel.\n"
          ],
          "name": "stderr"
        },
        {
          "output_type": "execute_result",
          "data": {
            "text/html": [
              "<div>\n",
              "<style scoped>\n",
              "    .dataframe tbody tr th:only-of-type {\n",
              "        vertical-align: middle;\n",
              "    }\n",
              "\n",
              "    .dataframe tbody tr th {\n",
              "        vertical-align: top;\n",
              "    }\n",
              "\n",
              "    .dataframe thead th {\n",
              "        text-align: right;\n",
              "    }\n",
              "</style>\n",
              "<table border=\"1\" class=\"dataframe\">\n",
              "  <thead>\n",
              "    <tr style=\"text-align: right;\">\n",
              "      <th></th>\n",
              "      <th>Carimbo de data/hora</th>\n",
              "      <th>Nome</th>\n",
              "      <th>Idade</th>\n",
              "      <th>Formação Acadêmica</th>\n",
              "      <th>Qual curso é a sua formação?</th>\n",
              "      <th>Qual área da tecnologia é do seu interesse:</th>\n",
              "      <th>Você tem algum conhecimento nessa área?</th>\n",
              "      <th>Quantos filhos você tem?</th>\n",
              "      <th>Quais são as idades?</th>\n",
              "      <th>Você tem dificuldade em conciliar o trabalho com o cuidado dos filhos?</th>\n",
              "      <th>Você consegue gerenciar melhor o trabalho com a maternidade no escritório ou homeoffice?</th>\n",
              "      <th>Hoje como funciona essa dinâmica?</th>\n",
              "      <th>Quais são as suas maiores dificuldades na busca por emprego?</th>\n",
              "      <th>O que você busca nessas oportunidades?</th>\n",
              "      <th>O que você acha que facilitaria neste processo de ser contratada em uma vaga de tech?</th>\n",
              "    </tr>\n",
              "  </thead>\n",
              "  <tbody>\n",
              "    <tr>\n",
              "      <th>count</th>\n",
              "      <td>19</td>\n",
              "      <td>19</td>\n",
              "      <td>19</td>\n",
              "      <td>19</td>\n",
              "      <td>19</td>\n",
              "      <td>19</td>\n",
              "      <td>19</td>\n",
              "      <td>19.000000</td>\n",
              "      <td>19</td>\n",
              "      <td>19</td>\n",
              "      <td>19</td>\n",
              "      <td>19</td>\n",
              "      <td>13</td>\n",
              "      <td>13</td>\n",
              "      <td>13</td>\n",
              "    </tr>\n",
              "    <tr>\n",
              "      <th>unique</th>\n",
              "      <td>19</td>\n",
              "      <td>19</td>\n",
              "      <td>6</td>\n",
              "      <td>5</td>\n",
              "      <td>17</td>\n",
              "      <td>9</td>\n",
              "      <td>2</td>\n",
              "      <td>NaN</td>\n",
              "      <td>8</td>\n",
              "      <td>2</td>\n",
              "      <td>2</td>\n",
              "      <td>19</td>\n",
              "      <td>13</td>\n",
              "      <td>10</td>\n",
              "      <td>13</td>\n",
              "    </tr>\n",
              "    <tr>\n",
              "      <th>top</th>\n",
              "      <td>2021-02-05 20:24:07.825000</td>\n",
              "      <td>Andreia Alexandre</td>\n",
              "      <td>26 a 30 anos</td>\n",
              "      <td>Ensino Superior Completo</td>\n",
              "      <td>Sistemas de Informação</td>\n",
              "      <td>Dados</td>\n",
              "      <td>Sim</td>\n",
              "      <td>NaN</td>\n",
              "      <td>4 a 10 anos</td>\n",
              "      <td>Sim</td>\n",
              "      <td>No homeoffice</td>\n",
              "      <td>Eu e meu marido nos dividimos. Um dia ele fica...</td>\n",
              "      <td>Conciliação</td>\n",
              "      <td>Horário Flexível, Ambiente de trabalho saudáve...</td>\n",
              "      <td>Ser home office e auxílio creche</td>\n",
              "    </tr>\n",
              "    <tr>\n",
              "      <th>freq</th>\n",
              "      <td>1</td>\n",
              "      <td>1</td>\n",
              "      <td>10</td>\n",
              "      <td>7</td>\n",
              "      <td>2</td>\n",
              "      <td>4</td>\n",
              "      <td>14</td>\n",
              "      <td>NaN</td>\n",
              "      <td>7</td>\n",
              "      <td>13</td>\n",
              "      <td>16</td>\n",
              "      <td>1</td>\n",
              "      <td>1</td>\n",
              "      <td>3</td>\n",
              "      <td>1</td>\n",
              "    </tr>\n",
              "    <tr>\n",
              "      <th>first</th>\n",
              "      <td>2021-02-05 16:24:14.827000</td>\n",
              "      <td>NaN</td>\n",
              "      <td>NaN</td>\n",
              "      <td>NaN</td>\n",
              "      <td>NaN</td>\n",
              "      <td>NaN</td>\n",
              "      <td>NaN</td>\n",
              "      <td>NaN</td>\n",
              "      <td>NaN</td>\n",
              "      <td>NaN</td>\n",
              "      <td>NaN</td>\n",
              "      <td>NaN</td>\n",
              "      <td>NaN</td>\n",
              "      <td>NaN</td>\n",
              "      <td>NaN</td>\n",
              "    </tr>\n",
              "    <tr>\n",
              "      <th>last</th>\n",
              "      <td>2021-02-07 10:13:56.623000</td>\n",
              "      <td>NaN</td>\n",
              "      <td>NaN</td>\n",
              "      <td>NaN</td>\n",
              "      <td>NaN</td>\n",
              "      <td>NaN</td>\n",
              "      <td>NaN</td>\n",
              "      <td>NaN</td>\n",
              "      <td>NaN</td>\n",
              "      <td>NaN</td>\n",
              "      <td>NaN</td>\n",
              "      <td>NaN</td>\n",
              "      <td>NaN</td>\n",
              "      <td>NaN</td>\n",
              "      <td>NaN</td>\n",
              "    </tr>\n",
              "    <tr>\n",
              "      <th>mean</th>\n",
              "      <td>NaN</td>\n",
              "      <td>NaN</td>\n",
              "      <td>NaN</td>\n",
              "      <td>NaN</td>\n",
              "      <td>NaN</td>\n",
              "      <td>NaN</td>\n",
              "      <td>NaN</td>\n",
              "      <td>1.473684</td>\n",
              "      <td>NaN</td>\n",
              "      <td>NaN</td>\n",
              "      <td>NaN</td>\n",
              "      <td>NaN</td>\n",
              "      <td>NaN</td>\n",
              "      <td>NaN</td>\n",
              "      <td>NaN</td>\n",
              "    </tr>\n",
              "    <tr>\n",
              "      <th>std</th>\n",
              "      <td>NaN</td>\n",
              "      <td>NaN</td>\n",
              "      <td>NaN</td>\n",
              "      <td>NaN</td>\n",
              "      <td>NaN</td>\n",
              "      <td>NaN</td>\n",
              "      <td>NaN</td>\n",
              "      <td>0.772328</td>\n",
              "      <td>NaN</td>\n",
              "      <td>NaN</td>\n",
              "      <td>NaN</td>\n",
              "      <td>NaN</td>\n",
              "      <td>NaN</td>\n",
              "      <td>NaN</td>\n",
              "      <td>NaN</td>\n",
              "    </tr>\n",
              "    <tr>\n",
              "      <th>min</th>\n",
              "      <td>NaN</td>\n",
              "      <td>NaN</td>\n",
              "      <td>NaN</td>\n",
              "      <td>NaN</td>\n",
              "      <td>NaN</td>\n",
              "      <td>NaN</td>\n",
              "      <td>NaN</td>\n",
              "      <td>1.000000</td>\n",
              "      <td>NaN</td>\n",
              "      <td>NaN</td>\n",
              "      <td>NaN</td>\n",
              "      <td>NaN</td>\n",
              "      <td>NaN</td>\n",
              "      <td>NaN</td>\n",
              "      <td>NaN</td>\n",
              "    </tr>\n",
              "    <tr>\n",
              "      <th>25%</th>\n",
              "      <td>NaN</td>\n",
              "      <td>NaN</td>\n",
              "      <td>NaN</td>\n",
              "      <td>NaN</td>\n",
              "      <td>NaN</td>\n",
              "      <td>NaN</td>\n",
              "      <td>NaN</td>\n",
              "      <td>1.000000</td>\n",
              "      <td>NaN</td>\n",
              "      <td>NaN</td>\n",
              "      <td>NaN</td>\n",
              "      <td>NaN</td>\n",
              "      <td>NaN</td>\n",
              "      <td>NaN</td>\n",
              "      <td>NaN</td>\n",
              "    </tr>\n",
              "    <tr>\n",
              "      <th>50%</th>\n",
              "      <td>NaN</td>\n",
              "      <td>NaN</td>\n",
              "      <td>NaN</td>\n",
              "      <td>NaN</td>\n",
              "      <td>NaN</td>\n",
              "      <td>NaN</td>\n",
              "      <td>NaN</td>\n",
              "      <td>1.000000</td>\n",
              "      <td>NaN</td>\n",
              "      <td>NaN</td>\n",
              "      <td>NaN</td>\n",
              "      <td>NaN</td>\n",
              "      <td>NaN</td>\n",
              "      <td>NaN</td>\n",
              "      <td>NaN</td>\n",
              "    </tr>\n",
              "    <tr>\n",
              "      <th>75%</th>\n",
              "      <td>NaN</td>\n",
              "      <td>NaN</td>\n",
              "      <td>NaN</td>\n",
              "      <td>NaN</td>\n",
              "      <td>NaN</td>\n",
              "      <td>NaN</td>\n",
              "      <td>NaN</td>\n",
              "      <td>2.000000</td>\n",
              "      <td>NaN</td>\n",
              "      <td>NaN</td>\n",
              "      <td>NaN</td>\n",
              "      <td>NaN</td>\n",
              "      <td>NaN</td>\n",
              "      <td>NaN</td>\n",
              "      <td>NaN</td>\n",
              "    </tr>\n",
              "    <tr>\n",
              "      <th>max</th>\n",
              "      <td>NaN</td>\n",
              "      <td>NaN</td>\n",
              "      <td>NaN</td>\n",
              "      <td>NaN</td>\n",
              "      <td>NaN</td>\n",
              "      <td>NaN</td>\n",
              "      <td>NaN</td>\n",
              "      <td>4.000000</td>\n",
              "      <td>NaN</td>\n",
              "      <td>NaN</td>\n",
              "      <td>NaN</td>\n",
              "      <td>NaN</td>\n",
              "      <td>NaN</td>\n",
              "      <td>NaN</td>\n",
              "      <td>NaN</td>\n",
              "    </tr>\n",
              "  </tbody>\n",
              "</table>\n",
              "</div>"
            ],
            "text/plain": [
              "              Carimbo de data/hora  ... O que você acha que facilitaria neste processo de ser contratada em uma vaga de tech?\n",
              "count                           19  ...                                                 13                                   \n",
              "unique                          19  ...                                                 13                                   \n",
              "top     2021-02-05 20:24:07.825000  ...                  Ser home office e auxílio creche                                    \n",
              "freq                             1  ...                                                  1                                   \n",
              "first   2021-02-05 16:24:14.827000  ...                                                NaN                                   \n",
              "last    2021-02-07 10:13:56.623000  ...                                                NaN                                   \n",
              "mean                           NaN  ...                                                NaN                                   \n",
              "std                            NaN  ...                                                NaN                                   \n",
              "min                            NaN  ...                                                NaN                                   \n",
              "25%                            NaN  ...                                                NaN                                   \n",
              "50%                            NaN  ...                                                NaN                                   \n",
              "75%                            NaN  ...                                                NaN                                   \n",
              "max                            NaN  ...                                                NaN                                   \n",
              "\n",
              "[13 rows x 15 columns]"
            ]
          },
          "metadata": {
            "tags": []
          },
          "execution_count": 79
        }
      ]
    },
    {
      "cell_type": "code",
      "metadata": {
        "colab": {
          "base_uri": "https://localhost:8080/"
        },
        "id": "9ptAEIei5Mxt",
        "outputId": "fda6c825-5010-4092-de34-dee124761f1e"
      },
      "source": [
        "df.columns"
      ],
      "execution_count": 26,
      "outputs": [
        {
          "output_type": "execute_result",
          "data": {
            "text/plain": [
              "Index(['Carimbo de data/hora', 'Nome', 'Idade', 'Formação Acadêmica ',\n",
              "       'Qual curso é a sua formação? ',\n",
              "       'Qual área da tecnologia é do seu interesse:',\n",
              "       'Você tem algum conhecimento nessa área?', 'Quantos filhos você tem?',\n",
              "       'Quais são as idades? ',\n",
              "       'Você tem dificuldade em conciliar o trabalho com o cuidado dos filhos?',\n",
              "       'Você consegue gerenciar melhor o trabalho com a maternidade no escritório ou homeoffice? ',\n",
              "       'Hoje como funciona essa dinâmica?',\n",
              "       'Quais são as suas maiores dificuldades na busca por emprego?',\n",
              "       'O que você busca nessas oportunidades?',\n",
              "       'O que você acha que facilitaria neste processo de ser contratada em uma vaga de tech?'],\n",
              "      dtype='object')"
            ]
          },
          "metadata": {
            "tags": []
          },
          "execution_count": 26
        }
      ]
    },
    {
      "cell_type": "code",
      "metadata": {
        "id": "MEeGOZQr7wAa"
      },
      "source": [
        "df.dropna(how='all', inplace=True) # Drop rows that all values are missing \r\n",
        "df.rename({'Você tem algum conhecimento nessa área?': 'Conhecimento da área',\r\n",
        "           'Qual área da tecnologia é do seu interesse:': 'Área de Interesse', \r\n",
        "           'Qual curso é a sua formação? ': 'Área de Formação',\r\n",
        "           'Quantos filhos você tem?': 'Quantidade de Filhos',\r\n",
        "           'Quais são as idades? ': 'Idade dos Filhos', \r\n",
        "           'Você tem dificuldade em conciliar o trabalho com o cuidado dos filhos?': 'Dificuldade de conciliar trabalho/filhos',\r\n",
        "           'Você consegue gerenciar melhor o trabalho com a maternidade no escritório ou homeoffice? ': 'Preferência de trabalho', \r\n",
        "           'Hoje como funciona essa dinâmica?': 'Dinâmica casa/trbalho',\r\n",
        "           'Quais são as suas maiores dificuldades na busca por emprego?': 'Dificuldades na busca por emprego', \r\n",
        "           'O que você busca nessas oportunidades?': 'Demandas Profissionais',\r\n",
        "           'O que você acha que facilitaria neste processo de ser contratada em uma vaga de tech?': 'Possíveis Facilitadores'\r\n",
        "           }, axis='columns', inplace=True)"
      ],
      "execution_count": 27,
      "outputs": []
    },
    {
      "cell_type": "code",
      "metadata": {
        "colab": {
          "base_uri": "https://localhost:8080/"
        },
        "id": "GdWAwKOdAn4A",
        "outputId": "afe74d9a-faab-45b5-991f-fabf28a3e1a5"
      },
      "source": [
        "df.columns"
      ],
      "execution_count": 28,
      "outputs": [
        {
          "output_type": "execute_result",
          "data": {
            "text/plain": [
              "Index(['Carimbo de data/hora', 'Nome', 'Idade', 'Formação Acadêmica ',\n",
              "       'Área de Formação', 'Área de Interesse', 'Conhecimento da área',\n",
              "       'Quantidade de Filhos', 'Idade dos Filhos',\n",
              "       'Dificuldade de conciliar trabalho/filhos', 'Preferência de trabalho',\n",
              "       'Dinâmica casa/trbalho', 'Dificuldades na busca por emprego',\n",
              "       'Demandas Profissionais', 'Possíveis Facilitadores'],\n",
              "      dtype='object')"
            ]
          },
          "metadata": {
            "tags": []
          },
          "execution_count": 28
        }
      ]
    },
    {
      "cell_type": "code",
      "metadata": {
        "colab": {
          "base_uri": "https://localhost:8080/"
        },
        "id": "YGB8Y250DDBT",
        "outputId": "96654009-e607-4fe7-ca86-97034a3d326b"
      },
      "source": [
        "df['Idade']"
      ],
      "execution_count": 29,
      "outputs": [
        {
          "output_type": "execute_result",
          "data": {
            "text/plain": [
              "0                   40 a 45 anos\n",
              "1                   31 a 40 anos\n",
              "2                   31 a 40 anos\n",
              "3                   26 a 30 anos\n",
              "4                   26 a 30 anos\n",
              "5     26 a 30 anos, 40 a 45 anos\n",
              "6                   21 a 25 anos\n",
              "7                   26 a 30 anos\n",
              "8                   26 a 30 anos\n",
              "9                   26 a 30 anos\n",
              "10                  26 a 30 anos\n",
              "11                  26 a 30 anos\n",
              "12            Maiores de 46 anos\n",
              "13                  40 a 45 anos\n",
              "14                  26 a 30 anos\n",
              "15            Maiores de 46 anos\n",
              "16                  26 a 30 anos\n",
              "17                  26 a 30 anos\n",
              "18                  40 a 45 anos\n",
              "Name: Idade, dtype: object"
            ]
          },
          "metadata": {
            "tags": []
          },
          "execution_count": 29
        }
      ]
    },
    {
      "cell_type": "code",
      "metadata": {
        "colab": {
          "base_uri": "https://localhost:8080/"
        },
        "id": "80rZhayz5sXC",
        "outputId": "c9557be1-f535-42ce-feaa-6c68fbc4b7d2"
      },
      "source": [
        "#cleaning Idade column \r\n",
        " \r\n",
        "def ages(x):\r\n",
        "    '''\r\n",
        "    \r\n",
        "    Find all numeric values and clean them by transforming all into int type and store then in a variable.\r\n",
        "    Calculate the mean if the object have 2 valid numeric values.\r\n",
        "   \r\n",
        "    ''' \r\n",
        "    \r\n",
        "    age_list = re.findall('\\d+.?\\d+', x.replace(',','.'))\r\n",
        "    age_list_int = [int(float(x)) for x in age_list]\r\n",
        "    try:\r\n",
        "        return sum(age_list_int)/len(age_list_int)\r\n",
        "    except: \r\n",
        "        return np.nan\r\n",
        "\r\n",
        "df['Idade'] = df['Idade'].apply(lambda x: ages(str(x))) \r\n",
        "#apply the ages function on the Idade column\r\n",
        "df['Idade'].unique()"
      ],
      "execution_count": 30,
      "outputs": [
        {
          "output_type": "execute_result",
          "data": {
            "text/plain": [
              "array([42.5 , 35.5 , 28.  , 35.25, 23.  , 46.  ])"
            ]
          },
          "metadata": {
            "tags": []
          },
          "execution_count": 30
        }
      ]
    },
    {
      "cell_type": "code",
      "metadata": {
        "colab": {
          "base_uri": "https://localhost:8080/",
          "height": 721
        },
        "id": "Q8Seznnz5wzW",
        "outputId": "740d89e7-5a01-4820-9d63-7e5b9f62dc2e"
      },
      "source": [
        "sns.distplot(df['Idade'])\r\n",
        "sns.distplot(df['Idade'], kde=False)"
      ],
      "execution_count": 40,
      "outputs": [
        {
          "output_type": "stream",
          "text": [
            "/usr/local/lib/python3.6/dist-packages/seaborn/distributions.py:2557: FutureWarning: `distplot` is a deprecated function and will be removed in a future version. Please adapt your code to use either `displot` (a figure-level function with similar flexibility) or `histplot` (an axes-level function for histograms).\n",
            "  warnings.warn(msg, FutureWarning)\n",
            "/usr/local/lib/python3.6/dist-packages/seaborn/distributions.py:2557: FutureWarning: `distplot` is a deprecated function and will be removed in a future version. Please adapt your code to use either `displot` (a figure-level function with similar flexibility) or `histplot` (an axes-level function for histograms).\n",
            "  warnings.warn(msg, FutureWarning)\n"
          ],
          "name": "stderr"
        },
        {
          "output_type": "execute_result",
          "data": {
            "text/plain": [
              "<matplotlib.axes._subplots.AxesSubplot at 0x7f36992761d0>"
            ]
          },
          "metadata": {
            "tags": []
          },
          "execution_count": 40
        },
        {
          "output_type": "display_data",
          "data": {
            "image/png": "[encoded data removed]",
            "text/plain": [
              "<Figure size 1440x720 with 1 Axes>"
            ]
          },
          "metadata": {
            "tags": []
          }
        }
      ]
    },
    {
      "cell_type": "code",
      "metadata": {
        "colab": {
          "base_uri": "https://localhost:8080/"
        },
        "id": "zqUWcn35BIA6",
        "outputId": "da061117-c87f-4912-c549-ad996d221547"
      },
      "source": [
        "len(df['Formação Acadêmica '].unique())"
      ],
      "execution_count": 74,
      "outputs": [
        {
          "output_type": "execute_result",
          "data": {
            "text/plain": [
              "5"
            ]
          },
          "metadata": {
            "tags": []
          },
          "execution_count": 74
        }
      ]
    },
    {
      "cell_type": "code",
      "metadata": {
        "colab": {
          "base_uri": "https://localhost:8080/",
          "height": 773
        },
        "id": "ZwuJ4KQEKKbD",
        "outputId": "438c0686-45a1-454d-e64b-e4f7073b55ba"
      },
      "source": [
        "plt.figure(figsize = (20, 12))\r\n",
        "df['Formação Acadêmica '].hist(bins = 5, ec = \"k\", alpha = .6, color = \"royalblue\")\r\n",
        "plt.title(\"Formação Acadêmica das Mães em Tech\")\r\n",
        "plt.xlabel(\"Formação\")\r\n",
        "plt.ylabel(\"Contagem\")"
      ],
      "execution_count": 57,
      "outputs": [
        {
          "output_type": "execute_result",
          "data": {
            "text/plain": [
              "Text(0, 0.5, 'Contagem')"
            ]
          },
          "metadata": {
            "tags": []
          },
          "execution_count": 57
        },
        {
          "output_type": "display_data",
          "data": {
            "image/png": "[encoded data removed]",
            "text/plain": [
              "<Figure size 1440x864 with 1 Axes>"
            ]
          },
          "metadata": {
            "tags": []
          }
        }
      ]
    },
    {
      "cell_type": "code",
      "metadata": {
        "colab": {
          "base_uri": "https://localhost:8080/"
        },
        "id": "kI0fSoc4Lopu",
        "outputId": "23237896-a4c3-4a29-9abc-bf3f8bd34f68"
      },
      "source": [
        "len(df['Área de Formação'].unique())"
      ],
      "execution_count": 75,
      "outputs": [
        {
          "output_type": "execute_result",
          "data": {
            "text/plain": [
              "17"
            ]
          },
          "metadata": {
            "tags": []
          },
          "execution_count": 75
        }
      ]
    },
    {
      "cell_type": "code",
      "metadata": {
        "id": "6XlKPT5QKqm0"
      },
      "source": [
        "df.to_excel('Mães em Tech (respostas).xlsx')"
      ],
      "execution_count": 83,
      "outputs": []
    },
    {
      "cell_type": "code",
      "metadata": {
        "id": "LHoPO0iIQPh5"
      },
      "source": [
        ""
      ],
      "execution_count": null,
      "outputs": []
    }
  ]
}