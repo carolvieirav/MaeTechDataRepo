{
  "nbformat": 4,
  "nbformat_minor": 0,
  "metadata": {
    "colab": {
      "name": "Sistema de Recomendação de Usuárias - MãeTech.ipynb",
      "provenance": [],
      "collapsed_sections": [],
      "authorship_tag": "ABX9TyMvYF+JzZrfrY1tS4R1Zbr3",
      "include_colab_link": true
    },
    "kernelspec": {
      "name": "python3",
      "display_name": "Python 3"
    }
  },
  "cells": [
    {
      "cell_type": "markdown",
      "metadata": {
        "id": "view-in-github",
        "colab_type": "text"
      },
      "source": [
        "<a href=\"https://colab.research.google.com/github/carolvieirav/MaeTechDataRepo/blob/main/Sistema_de_Recomenda%C3%A7%C3%A3o_de_Usu%C3%A1rias_M%C3%A3eTech.ipynb\" target=\"_parent\"><img src=\"https://colab.research.google.com/assets/colab-badge.svg\" alt=\"Open In Colab\"/></a>"
      ]
    },
    {
      "cell_type": "code",
      "metadata": {
        "colab": {
          "base_uri": "https://localhost:8080/"
        },
        "id": "kDFrlpGwWXlf",
        "outputId": "cec01509-671b-4fa9-8ab5-4874ec68f2c3"
      },
      "source": [
        "!pip install 'rake_nltk'"
      ],
      "execution_count": 1,
      "outputs": [
        {
          "output_type": "stream",
          "text": [
            "Requirement already satisfied: rake_nltk in /usr/local/lib/python3.6/dist-packages (1.0.4)\n",
            "Requirement already satisfied: nltk in /usr/local/lib/python3.6/dist-packages (from rake_nltk) (3.2.5)\n",
            "Requirement already satisfied: six in /usr/local/lib/python3.6/dist-packages (from nltk->rake_nltk) (1.15.0)\n"
          ],
          "name": "stdout"
        }
      ]
    },
    {
      "cell_type": "code",
      "metadata": {
        "id": "SsoazStbkB9x"
      },
      "source": [
        "import pandas as pd\r\n",
        "import numpy as np\r\n",
        "from rake_nltk import Rake\r\n",
        "from sklearn.metrics.pairwise import cosine_similarity\r\n",
        "from sklearn.feature_extraction.text import CountVectorizer"
      ],
      "execution_count": 3,
      "outputs": []
    },
    {
      "cell_type": "markdown",
      "metadata": {
        "id": "7NmJZTCqeSvf"
      },
      "source": [
        "### **Creating DataFrames with Job Openings and Users informations**"
      ]
    },
    {
      "cell_type": "code",
      "metadata": {
        "id": "t8kliAUICbSC"
      },
      "source": [
        "# Real Job Openings descripions posted on linkedin by ProviHack Woman partner companies\r\n",
        "\r\n",
        "empresas=[['Pagar.me', 'Data Developer | Analytics Engineer',True,\r\n",
        "           'Plano de Saúde e Odontológico Bradesco (sem coparticipação),Vale transporte, vale Refeição e/ou Vale Alimentação, Seguro de Vida, Gympass,Auxílio Creche',\r\n",
        "           ' NaN',' NaN', 'SQL, airflow, luigi, AWS, snowFlake, Big Query ou Azure SQL DW', 'NaN', 'NaN','Home Office']\r\n",
        "]"
      ],
      "execution_count": 34,
      "outputs": []
    },
    {
      "cell_type": "code",
      "metadata": {
        "id": "sIRA4loeW2fC"
      },
      "source": [
        "usuarias = [['Ana', 'Ciêntista de Dados', True, 'Vale Alimentação', 4000, 'NaN', 'SQL, Python, Tableau, Power BI, AWS', \r\n",
        "             'NaN', 'NaN', 'Pós Graduação', 'Home Office']\r\n",
        "            ]"
      ],
      "execution_count": 35,
      "outputs": []
    },
    {
      "cell_type": "code",
      "metadata": {
        "id": "xbjPcPpik-aQ"
      },
      "source": [
        "COLUNAS_EMPRESAS = [\r\n",
        "    'Nome da Empresa',\r\n",
        "    'Cargo',\r\n",
        "    'Flexibilidade',\r\n",
        "    'Benefícios',\r\n",
        "    'Salário',\r\n",
        "    'PJ ou CLT',\r\n",
        "    'Tecnologias',\r\n",
        "    'Tempo de experiência'\r\n",
        "    'Area de experiência',\r\n",
        "    'Escolaridade',\r\n",
        "    'Escritório ou HomeOffice'\r\n",
        "]\r\n",
        "\r\n",
        "empresasdf = pd.DataFrame(empresas, columns=COLUNAS_EMPRESAS)"
      ],
      "execution_count": 36,
      "outputs": []
    },
    {
      "cell_type": "code",
      "metadata": {
        "id": "W-ap3ydxlCjR"
      },
      "source": [
        "COLUNAS_USUARIAS = [\r\n",
        "    'Nome Completo',\r\n",
        "    'Cargo',\r\n",
        "    'Flexibilidade',\r\n",
        "    'Benefícios',\r\n",
        "    'Salário',\r\n",
        "    'PJ ou CLT',\r\n",
        "    'Tecnologias',\r\n",
        "    'Tempo de experiência',\r\n",
        "    'Area de experiência',\r\n",
        "    'Escolaridade',\r\n",
        "    'Escritório ou HomeOffice'\r\n",
        "]\r\n",
        "\r\n",
        "usuariasdf = pd.DataFrame(usuarias, columns=COLUNAS_USUARIAS)"
      ],
      "execution_count": 37,
      "outputs": []
    },
    {
      "cell_type": "markdown",
      "metadata": {
        "id": "IV_njPM8gPTA"
      },
      "source": [
        "### **Data Cleaning**"
      ]
    },
    {
      "cell_type": "markdown",
      "metadata": {
        "id": "_B2EVmYghVbo"
      },
      "source": [
        "Extracting the key words from a text with a feature from the nltk package"
      ]
    },
    {
      "cell_type": "code",
      "metadata": {
        "id": "0nBy6nAeVTne"
      },
      "source": [
        "#I chose to clean only the column of technologies for now to optimize time\r\n",
        "\r\n",
        "for index, row in empresasdf.iterrows():\r\n",
        "  for index, row in usuariasdf.iterrows():\r\n",
        "    tecnologias = row['Tecnologias']\r\n",
        "   \r\n",
        "    # instantiating Rake\r\n",
        "    r = Rake()\r\n",
        "\r\n",
        "    # extracting the words by passing the text\r\n",
        "    r.extract_keywords_from_text(tecnologias)\r\n",
        "\r\n",
        "    # getting the dictionary whith key words as keys and their scores as values\r\n",
        "    key_words_dict_scores = r.get_word_degrees()\r\n",
        "    \r\n",
        "    # assigning the key words to the column\r\n",
        "    row['Tecnologias'] = list(key_words_dict_scores.keys())"
      ],
      "execution_count": 46,
      "outputs": []
    },
    {
      "cell_type": "markdown",
      "metadata": {
        "id": "BCtqLyBBpjBx"
      },
      "source": [
        "### **Modeling**"
      ]
    },
    {
      "cell_type": "code",
      "metadata": {
        "id": "vjAGXrc_BnJY"
      },
      "source": [
        "# instantiating and generating the count matrix\r\n",
        "count = CountVectorizer()\r\n",
        "comp_matrix = count.fit_transform(empresasdf['Tecnologias'])\r\n",
        "user_matrix = count.fit_transform(usuariasdf['Tecnologias'])\r\n",
        "\r\n",
        "# generating the cosine similarity matrix\r\n",
        "comp_sim = cosine_similarity(comp_matrix, comp_matrix)\r\n",
        "user_sim = cosine_similarity(user_matrix, user_matrix)\r\n",
        "opening_sim = cosine_similarity(comp_sim, user_sim)"
      ],
      "execution_count": 52,
      "outputs": []
    },
    {
      "cell_type": "code",
      "metadata": {
        "id": "3qjd8qSGRe8y"
      },
      "source": [
        "# creating a Series for the job openings so they are associated to an ordered numerical list I will use in the function to match the indexes\r\n",
        "indices = pd.Series(empresasdf.index)\r\n",
        "\r\n",
        "#  defining the function that takes in a companny post as input and returns the top 3 recommended users\r\n",
        "def recommendations(indices, opening_sim = opening_sim):\r\n",
        "    # initializing the empty list of recommended users\r\n",
        "    recommended_users = []\r\n",
        "    \r\n",
        "    # gettin the index of the openings that matches the title\r\n",
        "    idx = indices[indices == title].index[0]\r\n",
        "\r\n",
        "    # creating a Series with the similarity scores in descending order\r\n",
        "    score_series = pd.Series(cosine_sim[idx]).sort_values(ascending = False)\r\n",
        "\r\n",
        "    # getting the indexes of the most similar users\r\n",
        "    top_indexes = list(score_series.iloc[1:11].index)\r\n",
        "    \r\n",
        "    # populating the list with the recommendations\r\n",
        "    for i in _indexes:\r\n",
        "        recommended.append(list(df.index)[i])\r\n",
        "        \r\n",
        "    return \r\n",
        " "
      ],
      "execution_count": null,
      "outputs": []
    }
  ]
}