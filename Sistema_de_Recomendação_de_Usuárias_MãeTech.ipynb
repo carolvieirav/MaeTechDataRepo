{
  "nbformat": 4,
  "nbformat_minor": 0,
  "metadata": {
    "colab": {
      "name": "Sistema de Recomendação de Usuárias - MãeTech.ipynb",
      "provenance": [],
      "collapsed_sections": [
        "7NmJZTCqeSvf",
        "IV_njPM8gPTA"
      ],
      "authorship_tag": "ABX9TyMr1WTEQC2CJuMEJRLKtcgk",
      "include_colab_link": true
    },
    "kernelspec": {
      "name": "python3",
      "display_name": "Python 3"
    }
  },
  "cells": [
    {
      "cell_type": "markdown",
      "metadata": {
        "id": "view-in-github",
        "colab_type": "text"
      },
      "source": [
        "<a href=\"https://colab.research.google.com/github/carolvieirav/MaeTechDataRepo/blob/main/Sistema_de_Recomenda%C3%A7%C3%A3o_de_Usu%C3%A1rias_M%C3%A3eTech.ipynb\" target=\"_parent\"><img src=\"https://colab.research.google.com/assets/colab-badge.svg\" alt=\"Open In Colab\"/></a>"
      ]
    },
    {
      "cell_type": "code",
      "metadata": {
        "colab": {
          "base_uri": "https://localhost:8080/"
        },
        "id": "kDFrlpGwWXlf",
        "outputId": "de5f83dc-15dc-4970-fe74-eb9683ffa508"
      },
      "source": [
        "!pip install 'rake_nltk'"
      ],
      "execution_count": 1,
      "outputs": [
        {
          "output_type": "stream",
          "text": [
            "Requirement already satisfied: rake_nltk in /usr/local/lib/python3.6/dist-packages (1.0.4)\n",
            "Requirement already satisfied: nltk in /usr/local/lib/python3.6/dist-packages (from rake_nltk) (3.2.5)\n",
            "Requirement already satisfied: six in /usr/local/lib/python3.6/dist-packages (from nltk->rake_nltk) (1.15.0)\n"
          ],
          "name": "stdout"
        }
      ]
    },
    {
      "cell_type": "code",
      "metadata": {
        "id": "SsoazStbkB9x"
      },
      "source": [
        "import pandas as pd\r\n",
        "import numpy as np\r\n",
        "from rake_nltk import Rake\r\n",
        "from sklearn.metrics.pairwise import cosine_similarity\r\n",
        "from sklearn.feature_extraction.text import CountVectorizer"
      ],
      "execution_count": 2,
      "outputs": []
    },
    {
      "cell_type": "markdown",
      "metadata": {
        "id": "7NmJZTCqeSvf"
      },
      "source": [
        "### **Creating DataFrames with Job Openings and Users informations**"
      ]
    },
    {
      "cell_type": "code",
      "metadata": {
        "id": "t8kliAUICbSC"
      },
      "source": [
        "# Real Job Openings descripions posted on linkedin by ProviHack Woman partner companies\r\n",
        "\r\n",
        "companies=[['Pagar.me', 'Data Developer | Analytics Engineer',True,\r\n",
        "           'Plano de Saúde e Odontológico Bradesco (sem coparticipação),Vale transporte, vale Refeição e/ou Vale Alimentação, Seguro de Vida, Gympass,Auxílio Creche',\r\n",
        "           ' NaN',' NaN', 'SQL, airflow, luigi, AWS, snowFlake, Big Query ou Azure SQL DW', 'NaN', 'NaN','Home Office']\r\n",
        "]"
      ],
      "execution_count": 24,
      "outputs": []
    },
    {
      "cell_type": "code",
      "metadata": {
        "id": "sIRA4loeW2fC"
      },
      "source": [
        "users = [['Ana', 'Ciêntista de Dados', True, 'Vale Alimentação', 4000, 'NaN', 'SQL, Python, Tableau, Power BI, AWS', \r\n",
        "             'NaN', 'NaN', 'Pós Graduação', 'Home Office']\r\n",
        "            ]"
      ],
      "execution_count": 25,
      "outputs": []
    },
    {
      "cell_type": "code",
      "metadata": {
        "colab": {
          "base_uri": "https://localhost:8080/",
          "height": 150
        },
        "id": "xbjPcPpik-aQ",
        "outputId": "5321ef4a-6012-462b-ed45-85ba648676aa"
      },
      "source": [
        "COMP_COL = [\r\n",
        "    'Nome da Empresa',\r\n",
        "    'Cargo',\r\n",
        "    'Flexibilidade',\r\n",
        "    'Benefícios',\r\n",
        "    'Salário',\r\n",
        "    'PJ ou CLT',\r\n",
        "    'Tecnologias',\r\n",
        "    'Tempo de experiência'\r\n",
        "    'Area de experiência',\r\n",
        "    'Escolaridade',\r\n",
        "    'Escritório ou HomeOffice'\r\n",
        "]\r\n",
        "\r\n",
        "compdf = pd.DataFrame(companies, columns=COMP_COL)\r\n",
        "compdf"
      ],
      "execution_count": 26,
      "outputs": [
        {
          "output_type": "execute_result",
          "data": {
            "text/html": [
              "<div>\n",
              "<style scoped>\n",
              "    .dataframe tbody tr th:only-of-type {\n",
              "        vertical-align: middle;\n",
              "    }\n",
              "\n",
              "    .dataframe tbody tr th {\n",
              "        vertical-align: top;\n",
              "    }\n",
              "\n",
              "    .dataframe thead th {\n",
              "        text-align: right;\n",
              "    }\n",
              "</style>\n",
              "<table border=\"1\" class=\"dataframe\">\n",
              "  <thead>\n",
              "    <tr style=\"text-align: right;\">\n",
              "      <th></th>\n",
              "      <th>Nome da Empresa</th>\n",
              "      <th>Cargo</th>\n",
              "      <th>Flexibilidade</th>\n",
              "      <th>Benefícios</th>\n",
              "      <th>Salário</th>\n",
              "      <th>PJ ou CLT</th>\n",
              "      <th>Tecnologias</th>\n",
              "      <th>Tempo de experiênciaArea de experiência</th>\n",
              "      <th>Escolaridade</th>\n",
              "      <th>Escritório ou HomeOffice</th>\n",
              "    </tr>\n",
              "  </thead>\n",
              "  <tbody>\n",
              "    <tr>\n",
              "      <th>0</th>\n",
              "      <td>Pagar.me</td>\n",
              "      <td>Data Developer | Analytics Engineer</td>\n",
              "      <td>True</td>\n",
              "      <td>Plano de Saúde e Odontológico Bradesco (sem co...</td>\n",
              "      <td>NaN</td>\n",
              "      <td>NaN</td>\n",
              "      <td>SQL, airflow, luigi, AWS, snowFlake, Big Query...</td>\n",
              "      <td>NaN</td>\n",
              "      <td>NaN</td>\n",
              "      <td>Home Office</td>\n",
              "    </tr>\n",
              "  </tbody>\n",
              "</table>\n",
              "</div>"
            ],
            "text/plain": [
              "  Nome da Empresa  ... Escritório ou HomeOffice\n",
              "0        Pagar.me  ...              Home Office\n",
              "\n",
              "[1 rows x 10 columns]"
            ]
          },
          "metadata": {
            "tags": []
          },
          "execution_count": 26
        }
      ]
    },
    {
      "cell_type": "code",
      "metadata": {
        "colab": {
          "base_uri": "https://localhost:8080/",
          "height": 115
        },
        "id": "W-ap3ydxlCjR",
        "outputId": "1052aa6b-329a-44c1-bc62-64ba07d76603"
      },
      "source": [
        "USERS_COL = [\r\n",
        "    'Nome Completo',\r\n",
        "    'Cargo',\r\n",
        "    'Flexibilidade',\r\n",
        "    'Benefícios',\r\n",
        "    'Salário',\r\n",
        "    'PJ ou CLT',\r\n",
        "    'Tecnologias',\r\n",
        "    'Tempo de experiência',\r\n",
        "    'Area de experiência',\r\n",
        "    'Escolaridade',\r\n",
        "    'Escritório ou HomeOffice'\r\n",
        "]\r\n",
        "\r\n",
        "usersdf = pd.DataFrame(users, columns=USERS_COL)\r\n",
        "usersdf"
      ],
      "execution_count": 28,
      "outputs": [
        {
          "output_type": "execute_result",
          "data": {
            "text/html": [
              "<div>\n",
              "<style scoped>\n",
              "    .dataframe tbody tr th:only-of-type {\n",
              "        vertical-align: middle;\n",
              "    }\n",
              "\n",
              "    .dataframe tbody tr th {\n",
              "        vertical-align: top;\n",
              "    }\n",
              "\n",
              "    .dataframe thead th {\n",
              "        text-align: right;\n",
              "    }\n",
              "</style>\n",
              "<table border=\"1\" class=\"dataframe\">\n",
              "  <thead>\n",
              "    <tr style=\"text-align: right;\">\n",
              "      <th></th>\n",
              "      <th>Nome Completo</th>\n",
              "      <th>Cargo</th>\n",
              "      <th>Flexibilidade</th>\n",
              "      <th>Benefícios</th>\n",
              "      <th>Salário</th>\n",
              "      <th>PJ ou CLT</th>\n",
              "      <th>Tecnologias</th>\n",
              "      <th>Tempo de experiência</th>\n",
              "      <th>Area de experiência</th>\n",
              "      <th>Escolaridade</th>\n",
              "      <th>Escritório ou HomeOffice</th>\n",
              "    </tr>\n",
              "  </thead>\n",
              "  <tbody>\n",
              "    <tr>\n",
              "      <th>0</th>\n",
              "      <td>Ana</td>\n",
              "      <td>Ciêntista de Dados</td>\n",
              "      <td>True</td>\n",
              "      <td>Vale Alimentação</td>\n",
              "      <td>4000</td>\n",
              "      <td>NaN</td>\n",
              "      <td>SQL, Python, Tableau, Power BI, AWS</td>\n",
              "      <td>NaN</td>\n",
              "      <td>NaN</td>\n",
              "      <td>Pós Graduação</td>\n",
              "      <td>Home Office</td>\n",
              "    </tr>\n",
              "  </tbody>\n",
              "</table>\n",
              "</div>"
            ],
            "text/plain": [
              "  Nome Completo               Cargo  ...   Escolaridade Escritório ou HomeOffice\n",
              "0           Ana  Ciêntista de Dados  ...  Pós Graduação              Home Office\n",
              "\n",
              "[1 rows x 11 columns]"
            ]
          },
          "metadata": {
            "tags": []
          },
          "execution_count": 28
        }
      ]
    },
    {
      "cell_type": "markdown",
      "metadata": {
        "id": "IV_njPM8gPTA"
      },
      "source": [
        "### **Data Cleaning**"
      ]
    },
    {
      "cell_type": "markdown",
      "metadata": {
        "id": "_B2EVmYghVbo"
      },
      "source": [
        "Extracting the key words from a text with a feature from the nltk package"
      ]
    },
    {
      "cell_type": "code",
      "metadata": {
        "id": "0nBy6nAeVTne"
      },
      "source": [
        "#I chose to clean only the column of technologies for now to optimize time\r\n",
        "\r\n",
        "for index, row in compdf.iterrows():\r\n",
        "  for index, row in usersdf.iterrows():\r\n",
        "    tecnologias = row['Tecnologias']\r\n",
        "   \r\n",
        "    # instantiating Rake\r\n",
        "    r = Rake()\r\n",
        "\r\n",
        "    # extracting the words by passing the text\r\n",
        "    r.extract_keywords_from_text(tecnologias)\r\n",
        "\r\n",
        "    # getting the dictionary whith key words as keys and their scores as values\r\n",
        "    key_words_dict_scores = r.get_word_degrees()\r\n",
        "    \r\n",
        "    # assigning the key words to the column\r\n",
        "    row['Tecnologias'] = list(key_words_dict_scores.keys())"
      ],
      "execution_count": 29,
      "outputs": []
    },
    {
      "cell_type": "markdown",
      "metadata": {
        "id": "BCtqLyBBpjBx"
      },
      "source": [
        "### **Modeling**"
      ]
    },
    {
      "cell_type": "code",
      "metadata": {
        "id": "vjAGXrc_BnJY"
      },
      "source": [
        "# instantiating and generating the count matrix\r\n",
        "count = CountVectorizer()\r\n",
        "comp_matrix = count.fit_transform(compdf['Tecnologias'])\r\n",
        "user_matrix = count.fit_transform(usersdf['Tecnologias'])\r\n",
        "\r\n",
        "# generating the cosine similarity matrix\r\n",
        "comp_sim = cosine_similarity(comp_matrix, comp_matrix)\r\n",
        "user_sim = cosine_similarity(user_matrix, user_matrix)\r\n",
        "opening_sim = cosine_similarity(comp_sim, user_sim)"
      ],
      "execution_count": 30,
      "outputs": []
    },
    {
      "cell_type": "code",
      "metadata": {
        "id": "3qjd8qSGRe8y"
      },
      "source": [
        "# creating a Series for the job openings so they are associated to an ordered numerical list\r\n",
        "indices = pd.Series(compdf.index)\r\n",
        "\r\n",
        "#  defining the function that takes in a companny post as input and returns the top recommended users\r\n",
        "def recommendations(indices, opening_sim = opening_sim):\r\n",
        "    # initializing the empty list of recommended users\r\n",
        "    recommended_users = []\r\n",
        "\r\n",
        "    # creating a Series with the similarity scores in descending order\r\n",
        "    score_series = pd.Series(opening_sim[indices]).sort_values(ascending = False)\r\n",
        "\r\n",
        "    # getting the indexes of the most similar users\r\n",
        "    top_indexes = list(score_series.iloc[0:4].index)\r\n",
        "    \r\n",
        "    # populating the list with the recommendations\r\n",
        "    for i in top_indexes:\r\n",
        "        recommended_users.append(list(compdf.index)[i])\r\n",
        "        \r\n",
        "    return recommended_users"
      ],
      "execution_count": 31,
      "outputs": []
    },
    {
      "cell_type": "code",
      "metadata": {
        "colab": {
          "base_uri": "https://localhost:8080/"
        },
        "id": "0c5W98tg4bws",
        "outputId": "517a7f64-092f-49fc-b4df-3e095df4a164"
      },
      "source": [
        "recommendations(0)"
      ],
      "execution_count": 32,
      "outputs": [
        {
          "output_type": "execute_result",
          "data": {
            "text/plain": [
              "[0]"
            ]
          },
          "metadata": {
            "tags": []
          },
          "execution_count": 32
        }
      ]
    },
    {
      "cell_type": "code",
      "metadata": {
        "id": "30cZWdth5AQo"
      },
      "source": [
        ""
      ],
      "execution_count": 10,
      "outputs": []
    }
  ]
}