{
  "nbformat": 4,
  "nbformat_minor": 0,
  "metadata": {
    "colab": {
      "name": "Sistema de Recomendação de Usuárias - MãeTech.ipynb",
      "provenance": [],
      "collapsed_sections": [],
      "authorship_tag": "ABX9TyPff2S+A6EcHpNe2uAuvNJR",
      "include_colab_link": true
    },
    "kernelspec": {
      "name": "python3",
      "display_name": "Python 3"
    }
  },
  "cells": [
    {
      "cell_type": "markdown",
      "metadata": {
        "id": "view-in-github",
        "colab_type": "text"
      },
      "source": [
        "<a href=\"https://colab.research.google.com/github/carolvieirav/MaeTechDataRepo/blob/main/Sistema_de_Recomenda%C3%A7%C3%A3o_de_Usu%C3%A1rias_M%C3%A3eTech.ipynb\" target=\"_parent\"><img src=\"https://colab.research.google.com/assets/colab-badge.svg\" alt=\"Open In Colab\"/></a>"
      ]
    },
    {
      "cell_type": "code",
      "metadata": {
        "id": "SsoazStbkB9x"
      },
      "source": [
        "import pandas as pd"
      ],
      "execution_count": 1,
      "outputs": []
    },
    {
      "cell_type": "code",
      "metadata": {
        "id": "xbjPcPpik-aQ"
      },
      "source": [
        "COLUNAS_EMPRESAS = [\r\n",
        "    'Nome da Empresa',\r\n",
        "    'Cargo',\r\n",
        "    'Flexibilidade',\r\n",
        "    'Benefícios',\r\n",
        "    'Salário',\r\n",
        "    'PJ ou CLT',\r\n",
        "    'Tecnologias',\r\n",
        "    'Tempo de experiência'\r\n",
        "    'Area de experiência',\r\n",
        "    'Escolaridade',\r\n",
        "    'Escritório ou HomeOffice'\r\n",
        "]\r\n",
        "\r\n",
        "empresasdf = pd.DataFrame(columns=COLUNAS_EMPRESAS)"
      ],
      "execution_count": 5,
      "outputs": []
    },
    {
      "cell_type": "code",
      "metadata": {
        "id": "W-ap3ydxlCjR"
      },
      "source": [
        "COLUNAS_USUARIAS = [\r\n",
        "    'Nome Completo',\r\n",
        "    'Cargo',\r\n",
        "    'Flexibilidade',\r\n",
        "    'Benefícios',\r\n",
        "    'Salário',\r\n",
        "    'PJ ou CLT',\r\n",
        "    'Tecnologias',\r\n",
        "    'Tempo de experiência'\r\n",
        "    'Area de experiência',\r\n",
        "    'Escolaridade',\r\n",
        "    'Escritório ou HomeOffice'\r\n",
        "]\r\n",
        "\r\n",
        "usuariasdf = pd.DataFrame(columns=COLUNAS_USUARIAS)"
      ],
      "execution_count": 7,
      "outputs": []
    },
    {
      "cell_type": "code",
      "metadata": {
        "id": "usw3e9aUnDGo"
      },
      "source": [
        ""
      ],
      "execution_count": null,
      "outputs": []
    }
  ]
}